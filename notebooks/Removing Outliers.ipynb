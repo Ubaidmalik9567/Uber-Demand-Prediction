{
 "cells": [
  {
   "cell_type": "code",
   "execution_count": 1,
   "metadata": {},
   "outputs": [],
   "source": [
    "import dask.dataframe as dd\n",
    "import pandas as pd\n",
    "import matplotlib.pyplot as plt\n",
    "import seaborn as sns\n",
    "import numpy as np"
   ]
  },
  {
   "cell_type": "code",
   "execution_count": 2,
   "metadata": {},
   "outputs": [],
   "source": [
    "df_jan_path = \"../data/raw/yellow_tripdata_2016-01.csv\"\n",
    "df_feb_path = \"../data/raw/yellow_tripdata_2016-02.csv\"\n",
    "df_mar_path = \"../data/raw/yellow_tripdata_2016-03.csv\"\n",
    "\n",
    "use_cols = ['trip_distance', 'pickup_longitude','pickup_latitude',\n",
    "            'dropoff_longitude', 'dropoff_latitude', 'fare_amount']\n",
    "\n",
    "df_jan = dd.read_csv(df_jan_path, assume_missing = True, usecols =use_cols)\n",
    "df_feb = dd.read_csv(df_feb_path, assume_missing = True, usecols =use_cols)\n",
    "df_mar = dd.read_csv(df_mar_path, assume_missing = True, usecols =use_cols)"
   ]
  },
  {
   "cell_type": "code",
   "execution_count": 3,
   "metadata": {},
   "outputs": [
    {
     "data": {
      "text/html": [
       "<div><strong>Dask DataFrame Structure:</strong></div>\n",
       "<table border=\"1\" class=\"dataframe\">\n",
       "  <thead>\n",
       "    <tr style=\"text-align: right;\">\n",
       "      <th></th>\n",
       "      <th>trip_distance</th>\n",
       "      <th>pickup_longitude</th>\n",
       "      <th>pickup_latitude</th>\n",
       "      <th>dropoff_longitude</th>\n",
       "      <th>dropoff_latitude</th>\n",
       "      <th>fare_amount</th>\n",
       "    </tr>\n",
       "    <tr>\n",
       "      <th>npartitions=26</th>\n",
       "      <th></th>\n",
       "      <th></th>\n",
       "      <th></th>\n",
       "      <th></th>\n",
       "      <th></th>\n",
       "      <th></th>\n",
       "    </tr>\n",
       "  </thead>\n",
       "  <tbody>\n",
       "    <tr>\n",
       "      <th></th>\n",
       "      <td>float64</td>\n",
       "      <td>float64</td>\n",
       "      <td>float64</td>\n",
       "      <td>float64</td>\n",
       "      <td>float64</td>\n",
       "      <td>float64</td>\n",
       "    </tr>\n",
       "    <tr>\n",
       "      <th></th>\n",
       "      <td>...</td>\n",
       "      <td>...</td>\n",
       "      <td>...</td>\n",
       "      <td>...</td>\n",
       "      <td>...</td>\n",
       "      <td>...</td>\n",
       "    </tr>\n",
       "    <tr>\n",
       "      <th>...</th>\n",
       "      <td>...</td>\n",
       "      <td>...</td>\n",
       "      <td>...</td>\n",
       "      <td>...</td>\n",
       "      <td>...</td>\n",
       "      <td>...</td>\n",
       "    </tr>\n",
       "    <tr>\n",
       "      <th></th>\n",
       "      <td>...</td>\n",
       "      <td>...</td>\n",
       "      <td>...</td>\n",
       "      <td>...</td>\n",
       "      <td>...</td>\n",
       "      <td>...</td>\n",
       "    </tr>\n",
       "    <tr>\n",
       "      <th></th>\n",
       "      <td>...</td>\n",
       "      <td>...</td>\n",
       "      <td>...</td>\n",
       "      <td>...</td>\n",
       "      <td>...</td>\n",
       "      <td>...</td>\n",
       "    </tr>\n",
       "  </tbody>\n",
       "</table>\n",
       "<div>Dask Name: to_string_dtype, 2 expressions</div>"
      ],
      "text/plain": [
       "Dask DataFrame Structure:\n",
       "               trip_distance pickup_longitude pickup_latitude dropoff_longitude dropoff_latitude fare_amount\n",
       "npartitions=26                                                                                              \n",
       "                     float64          float64         float64           float64          float64     float64\n",
       "                         ...              ...             ...               ...              ...         ...\n",
       "...                      ...              ...             ...               ...              ...         ...\n",
       "                         ...              ...             ...               ...              ...         ...\n",
       "                         ...              ...             ...               ...              ...         ...\n",
       "Dask Name: to_string_dtype, 2 expressions\n",
       "Expr=ArrowStringConversion(frame=FromMapProjectable(2a66e87))"
      ]
     },
     "execution_count": 3,
     "metadata": {},
     "output_type": "execute_result"
    }
   ],
   "source": [
    "df_jan"
   ]
  },
  {
   "cell_type": "code",
   "execution_count": 4,
   "metadata": {},
   "outputs": [],
   "source": [
    "df_final = dd.concat([df_jan, df_feb, df_mar],axis=0)"
   ]
  },
  {
   "cell_type": "code",
   "execution_count": 5,
   "metadata": {},
   "outputs": [
    {
     "data": {
      "image/svg+xml": [
       "<?xml version=\"1.0\" encoding=\"UTF-8\" standalone=\"no\"?>\n",
       "<!DOCTYPE svg PUBLIC \"-//W3C//DTD SVG 1.1//EN\"\n",
       " \"http://www.w3.org/Graphics/SVG/1.1/DTD/svg11.dtd\">\n",
       "<!-- Generated by graphviz version 2.43.0 (0)\n",
       " -->\n",
       "<!-- Title: %3 Pages: 1 -->\n",
       "<svg width=\"1424pt\" height=\"188pt\"\n",
       " viewBox=\"0.00 0.00 1424.00 188.00\" xmlns=\"http://www.w3.org/2000/svg\" xmlns:xlink=\"http://www.w3.org/1999/xlink\">\n",
       "<g id=\"graph0\" class=\"graph\" transform=\"scale(1 1) rotate(0) translate(4 184)\">\n",
       "<title>%3</title>\n",
       "<polygon fill=\"white\" stroke=\"transparent\" points=\"-4,4 -4,-184 1420,-184 1420,4 -4,4\"/>\n",
       "<!-- &#45;2206023874372141787 -->\n",
       "<g id=\"node1\" class=\"node\">\n",
       "<title>&#45;2206023874372141787</title>\n",
       "<polygon fill=\"none\" stroke=\"black\" points=\"1112.5,-180 303.5,-180 303.5,-144 1112.5,-144 1112.5,-180\"/>\n",
       "<text text-anchor=\"middle\" x=\"708\" y=\"-157\" font-family=\"Helvetica,sans-Serif\" font-size=\"20.00\">Concat(ArrowStringConversion, ArrowStringConversion, ArrowStringConversion)</text>\n",
       "</g>\n",
       "<!-- 1038718095114113407 -->\n",
       "<g id=\"node2\" class=\"node\">\n",
       "<title>1038718095114113407</title>\n",
       "<polygon fill=\"none\" stroke=\"black\" points=\"460,-108 0,-108 0,-72 460,-72 460,-108\"/>\n",
       "<text text-anchor=\"middle\" x=\"230\" y=\"-85\" font-family=\"Helvetica,sans-Serif\" font-size=\"20.00\">ArrowStringConversion(FromMapProjectable)</text>\n",
       "</g>\n",
       "<!-- 1038718095114113407&#45;&gt;&#45;2206023874372141787 -->\n",
       "<g id=\"edge3\" class=\"edge\">\n",
       "<title>1038718095114113407&#45;&gt;&#45;2206023874372141787</title>\n",
       "<path fill=\"none\" stroke=\"black\" d=\"M346.32,-108.03C417.45,-118.45 508.47,-131.78 581.41,-142.46\"/>\n",
       "<polygon fill=\"black\" stroke=\"black\" points=\"581.17,-145.96 591.57,-143.95 582.19,-139.04 581.17,-145.96\"/>\n",
       "</g>\n",
       "<!-- &#45;8217967144117258929 -->\n",
       "<g id=\"node3\" class=\"node\">\n",
       "<title>&#45;8217967144117258929</title>\n",
       "<polygon fill=\"none\" stroke=\"black\" points=\"338.5,-36 121.5,-36 121.5,0 338.5,0 338.5,-36\"/>\n",
       "<text text-anchor=\"middle\" x=\"230\" y=\"-13\" font-family=\"Helvetica,sans-Serif\" font-size=\"20.00\">FromMapProjectable</text>\n",
       "</g>\n",
       "<!-- &#45;8217967144117258929&#45;&gt;1038718095114113407 -->\n",
       "<g id=\"edge4\" class=\"edge\">\n",
       "<title>&#45;8217967144117258929&#45;&gt;1038718095114113407</title>\n",
       "<path fill=\"none\" stroke=\"black\" d=\"M230,-36.3C230,-44.02 230,-53.29 230,-61.89\"/>\n",
       "<polygon fill=\"black\" stroke=\"black\" points=\"226.5,-61.9 230,-71.9 233.5,-61.9 226.5,-61.9\"/>\n",
       "</g>\n",
       "<!-- 1149793833361591779 -->\n",
       "<g id=\"node4\" class=\"node\">\n",
       "<title>1149793833361591779</title>\n",
       "<polygon fill=\"none\" stroke=\"black\" points=\"938,-108 478,-108 478,-72 938,-72 938,-108\"/>\n",
       "<text text-anchor=\"middle\" x=\"708\" y=\"-85\" font-family=\"Helvetica,sans-Serif\" font-size=\"20.00\">ArrowStringConversion(FromMapProjectable)</text>\n",
       "</g>\n",
       "<!-- 1149793833361591779&#45;&gt;&#45;2206023874372141787 -->\n",
       "<g id=\"edge1\" class=\"edge\">\n",
       "<title>1149793833361591779&#45;&gt;&#45;2206023874372141787</title>\n",
       "<path fill=\"none\" stroke=\"black\" d=\"M708,-108.3C708,-116.02 708,-125.29 708,-133.89\"/>\n",
       "<polygon fill=\"black\" stroke=\"black\" points=\"704.5,-133.9 708,-143.9 711.5,-133.9 704.5,-133.9\"/>\n",
       "</g>\n",
       "<!-- &#45;898271246095399204 -->\n",
       "<g id=\"node5\" class=\"node\">\n",
       "<title>&#45;898271246095399204</title>\n",
       "<polygon fill=\"none\" stroke=\"black\" points=\"816.5,-36 599.5,-36 599.5,0 816.5,0 816.5,-36\"/>\n",
       "<text text-anchor=\"middle\" x=\"708\" y=\"-13\" font-family=\"Helvetica,sans-Serif\" font-size=\"20.00\">FromMapProjectable</text>\n",
       "</g>\n",
       "<!-- &#45;898271246095399204&#45;&gt;1149793833361591779 -->\n",
       "<g id=\"edge5\" class=\"edge\">\n",
       "<title>&#45;898271246095399204&#45;&gt;1149793833361591779</title>\n",
       "<path fill=\"none\" stroke=\"black\" d=\"M708,-36.3C708,-44.02 708,-53.29 708,-61.89\"/>\n",
       "<polygon fill=\"black\" stroke=\"black\" points=\"704.5,-61.9 708,-71.9 711.5,-61.9 704.5,-61.9\"/>\n",
       "</g>\n",
       "<!-- 1363678803182675541 -->\n",
       "<g id=\"node6\" class=\"node\">\n",
       "<title>1363678803182675541</title>\n",
       "<polygon fill=\"none\" stroke=\"black\" points=\"1416,-108 956,-108 956,-72 1416,-72 1416,-108\"/>\n",
       "<text text-anchor=\"middle\" x=\"1186\" y=\"-85\" font-family=\"Helvetica,sans-Serif\" font-size=\"20.00\">ArrowStringConversion(FromMapProjectable)</text>\n",
       "</g>\n",
       "<!-- 1363678803182675541&#45;&gt;&#45;2206023874372141787 -->\n",
       "<g id=\"edge2\" class=\"edge\">\n",
       "<title>1363678803182675541&#45;&gt;&#45;2206023874372141787</title>\n",
       "<path fill=\"none\" stroke=\"black\" d=\"M1069.68,-108.03C998.55,-118.45 907.53,-131.78 834.59,-142.46\"/>\n",
       "<polygon fill=\"black\" stroke=\"black\" points=\"833.81,-139.04 824.43,-143.95 834.83,-145.96 833.81,-139.04\"/>\n",
       "</g>\n",
       "<!-- 2555997907827094929 -->\n",
       "<g id=\"node7\" class=\"node\">\n",
       "<title>2555997907827094929</title>\n",
       "<polygon fill=\"none\" stroke=\"black\" points=\"1294.5,-36 1077.5,-36 1077.5,0 1294.5,0 1294.5,-36\"/>\n",
       "<text text-anchor=\"middle\" x=\"1186\" y=\"-13\" font-family=\"Helvetica,sans-Serif\" font-size=\"20.00\">FromMapProjectable</text>\n",
       "</g>\n",
       "<!-- 2555997907827094929&#45;&gt;1363678803182675541 -->\n",
       "<g id=\"edge6\" class=\"edge\">\n",
       "<title>2555997907827094929&#45;&gt;1363678803182675541</title>\n",
       "<path fill=\"none\" stroke=\"black\" d=\"M1186,-36.3C1186,-44.02 1186,-53.29 1186,-61.89\"/>\n",
       "<polygon fill=\"black\" stroke=\"black\" points=\"1182.5,-61.9 1186,-71.9 1189.5,-61.9 1182.5,-61.9\"/>\n",
       "</g>\n",
       "</g>\n",
       "</svg>\n"
      ],
      "text/plain": [
       "<graphviz.graphs.Digraph at 0x7ed77d760e80>"
      ]
     },
     "execution_count": 5,
     "metadata": {},
     "output_type": "execute_result"
    }
   ],
   "source": [
    "df_final.visualize()"
   ]
  },
  {
   "cell_type": "markdown",
   "metadata": {},
   "source": [
    "A bounding box defines the rectangle that encloses a geographic area, using the minimum and maximum latitude and longitude values.\n",
    "\n",
    "📍 New York City Bounding Box (approximate):\n",
    "\n",
    "Minimum Latitude: 40.4774° N\n",
    "\n",
    "Maximum Latitude: 40.9176° N\n",
    "\n",
    "Minimum Longitude: -74.2591° W\n",
    "\n",
    "Maximum Longitude: -73.7004° W"
   ]
  },
  {
   "cell_type": "code",
   "execution_count": 6,
   "metadata": {},
   "outputs": [],
   "source": [
    "min_latitude = 40.47\n",
    "max_latitude = 40.91\n",
    "min_longitude = -74.25\n",
    "max_longitude = -73.70"
   ]
  },
  {
   "cell_type": "code",
   "execution_count": 7,
   "metadata": {},
   "outputs": [],
   "source": [
    "fare_amount = df_final[\"fare_amount\"].compute()\n",
    "trip_distance = df_final[\"trip_distance\"].compute()"
   ]
  },
  {
   "cell_type": "code",
   "execution_count": 8,
   "metadata": {},
   "outputs": [
    {
     "data": {
      "text/plain": [
       "(34499859,)"
      ]
     },
     "execution_count": 8,
     "metadata": {},
     "output_type": "execute_result"
    }
   ],
   "source": [
    "fare_amount.shape"
   ]
  },
  {
   "cell_type": "code",
   "execution_count": 9,
   "metadata": {},
   "outputs": [
    {
     "data": {
      "text/plain": [
       "0.991        52.00\n",
       "0.992        52.00\n",
       "0.993        52.00\n",
       "0.994        52.00\n",
       "0.995        54.00\n",
       "0.996        58.50\n",
       "0.997        63.00\n",
       "0.998        69.00\n",
       "0.999        81.00\n",
       "1.000    429496.72\n",
       "Name: fare_amount, dtype: float64"
      ]
     },
     "execution_count": 9,
     "metadata": {},
     "output_type": "execute_result"
    }
   ],
   "source": [
    "percentile_values = np.arange(0.991,1.00,0.001)\n",
    "fare_amount.quantile(percentile_values)"
   ]
  },
  {
   "cell_type": "code",
   "execution_count": 10,
   "metadata": {},
   "outputs": [
    {
     "name": "stdout",
     "output_type": "stream",
     "text": [
      "81.0 0.5\n"
     ]
    }
   ],
   "source": [
    "max_fare_amount_val = fare_amount.quantile(percentile_values).iloc[-2] # choice maximum percentile value which 0.999\n",
    "min_fare_amount_val = 0.50 # at new york taxi limousine commission website minimum fare is  $0.50 \n",
    "print(max_fare_amount_val,min_fare_amount_val)"
   ]
  },
  {
   "cell_type": "code",
   "execution_count": 11,
   "metadata": {},
   "outputs": [
    {
     "data": {
      "text/plain": [
       "0.991          18.80\n",
       "0.992          19.00\n",
       "0.993          19.30\n",
       "0.994          19.63\n",
       "0.995          20.04\n",
       "0.996          20.51\n",
       "0.997          21.10\n",
       "0.998          21.90\n",
       "0.999          24.43\n",
       "1.000    19072628.80\n",
       "Name: trip_distance, dtype: float64"
      ]
     },
     "execution_count": 11,
     "metadata": {},
     "output_type": "execute_result"
    }
   ],
   "source": [
    "trip_distance.quantile(percentile_values) "
   ]
  },
  {
   "cell_type": "code",
   "execution_count": 12,
   "metadata": {},
   "outputs": [],
   "source": [
    "# according to NYT limousine commission min distance should be 0.25 miles so\n",
    "min_trip_distance_val = 0.25\n",
    "max_trip_distance_val = 24.43"
   ]
  },
  {
   "cell_type": "markdown",
   "metadata": {},
   "source": [
    "### Remove Outliers from the Data"
   ]
  },
  {
   "cell_type": "code",
   "execution_count": 13,
   "metadata": {},
   "outputs": [],
   "source": [
    "# select data points within the given ranges\n",
    "\n",
    "df_final = df_final.loc[\n",
    "    (df_final[\"pickup_latitude\"].between(min_latitude, max_latitude, inclusive=\"both\")) & \n",
    "    (df_final[\"pickup_longitude\"].between(min_longitude, max_longitude, inclusive=\"both\")) & \n",
    "    (df_final[\"dropoff_latitude\"].between(min_latitude, max_latitude, inclusive=\"both\")) & \n",
    "    (df_final[\"dropoff_longitude\"].between(min_longitude, max_longitude, inclusive=\"both\")), :]"
   ]
  },
  {
   "cell_type": "code",
   "execution_count": 14,
   "metadata": {},
   "outputs": [],
   "source": [
    "df_final = df_final.loc[(df_final[\"fare_amount\"].between(min_fare_amount_val,max_fare_amount_val,inclusive=\"both\")) & \n",
    "(df_final[\"trip_distance\"].between(min_trip_distance_val,max_trip_distance_val,inclusive=\"both\"))]"
   ]
  },
  {
   "cell_type": "code",
   "execution_count": 15,
   "metadata": {},
   "outputs": [
    {
     "data": {
      "text/html": [
       "<div><strong>Dask DataFrame Structure:</strong></div>\n",
       "<table border=\"1\" class=\"dataframe\">\n",
       "  <thead>\n",
       "    <tr style=\"text-align: right;\">\n",
       "      <th></th>\n",
       "      <th>pickup_latitude</th>\n",
       "      <th>pickup_longitude</th>\n",
       "      <th>dropoff_latitude</th>\n",
       "      <th>dropoff_longitude</th>\n",
       "    </tr>\n",
       "    <tr>\n",
       "      <th>npartitions=82</th>\n",
       "      <th></th>\n",
       "      <th></th>\n",
       "      <th></th>\n",
       "      <th></th>\n",
       "    </tr>\n",
       "  </thead>\n",
       "  <tbody>\n",
       "    <tr>\n",
       "      <th></th>\n",
       "      <td>float64</td>\n",
       "      <td>float64</td>\n",
       "      <td>float64</td>\n",
       "      <td>float64</td>\n",
       "    </tr>\n",
       "    <tr>\n",
       "      <th></th>\n",
       "      <td>...</td>\n",
       "      <td>...</td>\n",
       "      <td>...</td>\n",
       "      <td>...</td>\n",
       "    </tr>\n",
       "    <tr>\n",
       "      <th>...</th>\n",
       "      <td>...</td>\n",
       "      <td>...</td>\n",
       "      <td>...</td>\n",
       "      <td>...</td>\n",
       "    </tr>\n",
       "    <tr>\n",
       "      <th></th>\n",
       "      <td>...</td>\n",
       "      <td>...</td>\n",
       "      <td>...</td>\n",
       "      <td>...</td>\n",
       "    </tr>\n",
       "    <tr>\n",
       "      <th></th>\n",
       "      <td>...</td>\n",
       "      <td>...</td>\n",
       "      <td>...</td>\n",
       "      <td>...</td>\n",
       "    </tr>\n",
       "  </tbody>\n",
       "</table>\n",
       "<div>Dask Name: getitem, 27 expressions</div>"
      ],
      "text/plain": [
       "Dask DataFrame Structure:\n",
       "               pickup_latitude pickup_longitude dropoff_latitude dropoff_longitude\n",
       "npartitions=82                                                                    \n",
       "                       float64          float64          float64           float64\n",
       "                           ...              ...              ...               ...\n",
       "...                        ...              ...              ...               ...\n",
       "                           ...              ...              ...               ...\n",
       "                           ...              ...              ...               ...\n",
       "Dask Name: getitem, 27 expressions\n",
       "Expr=(Loc(frame=Loc(frame=(Concat(frames=[ArrowStringConversion(frame=FromMapProjectable(2a66e87)), ArrowStringConversion(frame=FromMapProjectable(fc75239)), ArrowStringConversion(frame=FromMapProjectable(d6e7d30))], ))[['trip_distance', 'pickup_longitude', 'pickup_latitude', 'dropoff_longitude', 'dropoff_latitude', 'fare_amount']], iindexer=Between(frame=(Concat(frames=[ArrowStringConversion(frame=FromMapProjectable(2a66e87)), ArrowStringConversion(frame=FromMapProjectable(fc75239)), ArrowStringConversion(frame=FromMapProjectable(d6e7d30))], ))['pickup_latitude'], left=40.47, right=40.91) & Between(frame=(Concat(frames=[ArrowStringConversion(frame=FromMapProjectable(2a66e87)), ArrowStringConversion(frame=FromMapProjectable(fc75239)), ArrowStringConversion(frame=FromMapProjectable(d6e7d30))], ))['pickup_longitude'], left=-74.25, right=-73.7) & Between(frame=(Concat(frames=[ArrowStringConversion(frame=FromMapProjectable(2a66e87)), ArrowStringConversion(frame=FromMapProjectable(fc75239)), ArrowStringConversion(frame=FromMapProjectable(d6e7d30))], ))['dropoff_latitude'], left=40.47, right=40.91) & Between(frame=(Concat(frames=[ArrowStringConversion(frame=FromMapProjectable(2a66e87)), ArrowStringConversion(frame=FromMapProjectable(fc75239)), ArrowStringConversion(frame=FromMapProjectable(d6e7d30))], ))['dropoff_longitude'], left=-74.25, right=-73.7)), iindexer=Between(frame=(Loc(frame=(Concat(frames=[ArrowStringConversion(frame=FromMapProjectable(2a66e87)), ArrowStringConversion(frame=FromMapProjectable(fc75239)), ArrowStringConversion(frame=FromMapProjectable(d6e7d30))], ))[['trip_distance', 'pickup_longitude', 'pickup_latitude', 'dropoff_longitude', 'dropoff_latitude', 'fare_amount']], iindexer=Between(frame=(Concat(frames=[ArrowStringConversion(frame=FromMapProjectable(2a66e87)), ArrowStringConversion(frame=FromMapProjectable(fc75239)), ArrowStringConversion(frame=FromMapProjectable(d6e7d30))], ))['pickup_latitude'], left=40.47, right=40.91) & Between(frame=(Concat(frames=[ArrowStringConversion(frame=FromMapProjectable(2a66e87)), ArrowStringConversion(frame=FromMapProjectable(fc75239)), ArrowStringConversion(frame=FromMapProjectable(d6e7d30))], ))['pickup_longitude'], left=-74.25, right=-73.7) & Between(frame=(Concat(frames=[ArrowStringConversion(frame=FromMapProjectable(2a66e87)), ArrowStringConversion(frame=FromMapProjectable(fc75239)), ArrowStringConversion(frame=FromMapProjectable(d6e7d30))], ))['dropoff_latitude'], left=40.47, right=40.91) & Between(frame=(Concat(frames=[ArrowStringConversion(frame=FromMapProjectable(2a66e87)), ArrowStringConversion(frame=FromMapProjectable(fc75239)), ArrowStringConversion(frame=FromMapProjectable(d6e7d30))], ))['dropoff_longitude'], left=-74.25, right=-73.7)))['fare_amount'], left=0.5, right=81.0) & Between(frame=(Loc(frame=(Concat(frames=[ArrowStringConversion(frame=FromMapProjectable(2a66e87)), ArrowStringConversion(frame=FromMapProjectable(fc75239)), ArrowStringConversion(frame=FromMapProjectable(d6e7d30))], ))[['trip_distance', 'pickup_longitude', 'pickup_latitude', 'dropoff_longitude', 'dropoff_latitude', 'fare_amount']], iindexer=Between(frame=(Concat(frames=[ArrowStringConversion(frame=FromMapProjectable(2a66e87)), ArrowStringConversion(frame=FromMapProjectable(fc75239)), ArrowStringConversion(frame=FromMapProjectable(d6e7d30))], ))['pickup_latitude'], left=40.47, right=40.91) & Between(frame=(Concat(frames=[ArrowStringConversion(frame=FromMapProjectable(2a66e87)), ArrowStringConversion(frame=FromMapProjectable(fc75239)), ArrowStringConversion(frame=FromMapProjectable(d6e7d30))], ))['pickup_longitude'], left=-74.25, right=-73.7) & Between(frame=(Concat(frames=[ArrowStringConversion(frame=FromMapProjectable(2a66e87)), ArrowStringConversion(frame=FromMapProjectable(fc75239)), ArrowStringConversion(frame=FromMapProjectable(d6e7d30))], ))['dropoff_latitude'], left=40.47, right=40.91) & Between(frame=(Concat(frames=[ArrowStringConversion(frame=FromMapProjectable(2a66e87)), ArrowStringConversion(frame=FromMapProjectable(fc75239)), ArrowStringConversion(frame=FromMapProjectable(d6e7d30))], ))['dropoff_longitude'], left=-74.25, right=-73.7)))['trip_distance'], left=0.25, right=24.43)))[['pickup_latitude', 'pickup_longitude', 'dropoff_latitude', 'dropoff_longitude']]"
      ]
     },
     "execution_count": 15,
     "metadata": {},
     "output_type": "execute_result"
    }
   ],
   "source": [
    "# make a subset of location based columns\n",
    "\n",
    "location_subset = df_final[['pickup_latitude','pickup_longitude', \n",
    "                           'dropoff_latitude','dropoff_longitude']]\n",
    "\n",
    "location_subset"
   ]
  },
  {
   "cell_type": "code",
   "execution_count": 59,
   "metadata": {},
   "outputs": [
    {
     "data": {
      "image/png": "[encoded data removed]",
      "text/plain": [
       "<Figure size 1200x500 with 4 Axes>"
      ]
     },
     "metadata": {},
     "output_type": "display_data"
    }
   ],
   "source": [
    "# boxplots for location based columns\n",
    "\n",
    "fig, (ax1, ax2) = plt.subplots(nrows=2, ncols=2, figsize=(12,5))\n",
    "for i in range(4):\n",
    "    if i <= 1:\n",
    "        # plot the boxplot\n",
    "        sns.boxplot(y=location_subset.iloc[:,i].compute(),ax=ax1[i],whis=3)\n",
    "    else:\n",
    "        # plot the boxplot\n",
    "        sns.boxplot(y=location_subset.iloc[:,i].compute(),ax=ax2[i - 2],whis=3)"
   ]
  },
  {
   "cell_type": "code",
   "execution_count": 16,
   "metadata": {},
   "outputs": [
    {
     "data": {
      "text/plain": [
       "<Axes: ylabel='trip_distance'>"
      ]
     },
     "execution_count": 16,
     "metadata": {},
     "output_type": "execute_result"
    },
    {
     "data": {
      "image/png": "[encoded data removed]",
      "text/plain": [
       "<Figure size 640x480 with 1 Axes>"
      ]
     },
     "metadata": {},
     "output_type": "display_data"
    }
   ],
   "source": [
    "sns.boxplot(df_final.loc[:,\"trip_distance\"].compute(), whis=3)"
   ]
  },
  {
   "cell_type": "code",
   "execution_count": 17,
   "metadata": {},
   "outputs": [
    {
     "data": {
      "text/plain": [
       "<Axes: ylabel='fare_amount'>"
      ]
     },
     "execution_count": 17,
     "metadata": {},
     "output_type": "execute_result"
    },
    {
     "data": {
      "image/png": "[encoded data removed]",
      "text/plain": [
       "<Figure size 640x480 with 1 Axes>"
      ]
     },
     "metadata": {},
     "output_type": "display_data"
    }
   ],
   "source": [
    "sns.boxplot(df_final.loc[:,\"fare_amount\"].compute(), whis=3)"
   ]
  },
  {
   "cell_type": "code",
   "execution_count": 18,
   "metadata": {},
   "outputs": [
    {
     "data": {
      "image/svg+xml": [
       "<?xml version=\"1.0\" encoding=\"UTF-8\" standalone=\"no\"?>\n",
       "<!DOCTYPE svg PUBLIC \"-//W3C//DTD SVG 1.1//EN\"\n",
       " \"http://www.w3.org/Graphics/SVG/1.1/DTD/svg11.dtd\">\n",
       "<!-- Generated by graphviz version 2.43.0 (0)\n",
       " -->\n",
       "<!-- Title: %3 Pages: 1 -->\n",
       "<svg width=\"2241pt\" height=\"980pt\"\n",
       " viewBox=\"0.00 0.00 2240.50 980.00\" xmlns=\"http://www.w3.org/2000/svg\" xmlns:xlink=\"http://www.w3.org/1999/xlink\">\n",
       "<g id=\"graph0\" class=\"graph\" transform=\"scale(1 1) rotate(0) translate(4 976)\">\n",
       "<title>%3</title>\n",
       "<polygon fill=\"white\" stroke=\"transparent\" points=\"-4,4 -4,-976 2236.5,-976 2236.5,4 -4,4\"/>\n",
       "<!-- 4849927095828031686 -->\n",
       "<g id=\"node1\" class=\"node\">\n",
       "<title>4849927095828031686</title>\n",
       "<polygon fill=\"none\" stroke=\"black\" points=\"939,-972 397,-972 397,-936 939,-936 939,-972\"/>\n",
       "<text text-anchor=\"middle\" x=\"668\" y=\"-949\" font-family=\"Helvetica,sans-Serif\" font-size=\"20.00\">Projection(Loc, [&#39;pickup_latitude&#39;, &#39;pickup_longitude&#39;])</text>\n",
       "</g>\n",
       "<!-- &#45;5435447684976575831 -->\n",
       "<g id=\"node2\" class=\"node\">\n",
       "<title>&#45;5435447684976575831</title>\n",
       "<polygon fill=\"none\" stroke=\"black\" points=\"743,-900 593,-900 593,-864 743,-864 743,-900\"/>\n",
       "<text text-anchor=\"middle\" x=\"668\" y=\"-877\" font-family=\"Helvetica,sans-Serif\" font-size=\"20.00\">Loc(Loc, And)</text>\n",
       "</g>\n",
       "<!-- &#45;5435447684976575831&#45;&gt;4849927095828031686 -->\n",
       "<g id=\"edge1\" class=\"edge\">\n",
       "<title>&#45;5435447684976575831&#45;&gt;4849927095828031686</title>\n",
       "<path fill=\"none\" stroke=\"black\" d=\"M668,-900.3C668,-908.02 668,-917.29 668,-925.89\"/>\n",
       "<polygon fill=\"black\" stroke=\"black\" points=\"664.5,-925.9 668,-935.9 671.5,-925.9 664.5,-925.9\"/>\n",
       "</g>\n",
       "<!-- 529861137144624064 -->\n",
       "<g id=\"node3\" class=\"node\">\n",
       "<title>529861137144624064</title>\n",
       "<polygon fill=\"none\" stroke=\"black\" points=\"885.5,-828 630.5,-828 630.5,-792 885.5,-792 885.5,-828\"/>\n",
       "<text text-anchor=\"middle\" x=\"758\" y=\"-805\" font-family=\"Helvetica,sans-Serif\" font-size=\"20.00\">And(Between, Between)</text>\n",
       "</g>\n",
       "<!-- 529861137144624064&#45;&gt;&#45;5435447684976575831 -->\n",
       "<g id=\"edge2\" class=\"edge\">\n",
       "<title>529861137144624064&#45;&gt;&#45;5435447684976575831</title>\n",
       "<path fill=\"none\" stroke=\"black\" d=\"M735.75,-828.3C724.42,-837.12 710.47,-847.97 698.18,-857.53\"/>\n",
       "<polygon fill=\"black\" stroke=\"black\" points=\"695.74,-854.99 689.99,-863.9 700.03,-860.52 695.74,-854.99\"/>\n",
       "</g>\n",
       "<!-- &#45;1987291885117894139 -->\n",
       "<g id=\"node4\" class=\"node\">\n",
       "<title>&#45;1987291885117894139</title>\n",
       "<polygon fill=\"none\" stroke=\"black\" points=\"865.5,-756 650.5,-756 650.5,-720 865.5,-720 865.5,-756\"/>\n",
       "<text text-anchor=\"middle\" x=\"758\" y=\"-733\" font-family=\"Helvetica,sans-Serif\" font-size=\"20.00\">Between(Projection)</text>\n",
       "</g>\n",
       "<!-- &#45;1987291885117894139&#45;&gt;529861137144624064 -->\n",
       "<g id=\"edge5\" class=\"edge\">\n",
       "<title>&#45;1987291885117894139&#45;&gt;529861137144624064</title>\n",
       "<path fill=\"none\" stroke=\"black\" d=\"M758,-756.3C758,-764.02 758,-773.29 758,-781.89\"/>\n",
       "<polygon fill=\"black\" stroke=\"black\" points=\"754.5,-781.9 758,-791.9 761.5,-781.9 754.5,-781.9\"/>\n",
       "</g>\n",
       "<!-- &#45;3779726237529164891 -->\n",
       "<g id=\"node5\" class=\"node\">\n",
       "<title>&#45;3779726237529164891</title>\n",
       "<polygon fill=\"none\" stroke=\"black\" points=\"909,-684 607,-684 607,-648 909,-648 909,-684\"/>\n",
       "<text text-anchor=\"middle\" x=\"758\" y=\"-661\" font-family=\"Helvetica,sans-Serif\" font-size=\"20.00\">Projection(Loc, trip_distance)</text>\n",
       "</g>\n",
       "<!-- &#45;3779726237529164891&#45;&gt;&#45;1987291885117894139 -->\n",
       "<g id=\"edge6\" class=\"edge\">\n",
       "<title>&#45;3779726237529164891&#45;&gt;&#45;1987291885117894139</title>\n",
       "<path fill=\"none\" stroke=\"black\" d=\"M758,-684.3C758,-692.02 758,-701.29 758,-709.89\"/>\n",
       "<polygon fill=\"black\" stroke=\"black\" points=\"754.5,-709.9 758,-719.9 761.5,-709.9 754.5,-709.9\"/>\n",
       "</g>\n",
       "<!-- &#45;5427279146790490540 -->\n",
       "<g id=\"node6\" class=\"node\">\n",
       "<title>&#45;5427279146790490540</title>\n",
       "<polygon fill=\"none\" stroke=\"black\" points=\"865,-612 651,-612 651,-576 865,-576 865,-612\"/>\n",
       "<text text-anchor=\"middle\" x=\"758\" y=\"-589\" font-family=\"Helvetica,sans-Serif\" font-size=\"20.00\">Loc(Projection, And)</text>\n",
       "</g>\n",
       "<!-- &#45;5427279146790490540&#45;&gt;&#45;5435447684976575831 -->\n",
       "<g id=\"edge3\" class=\"edge\">\n",
       "<title>&#45;5427279146790490540&#45;&gt;&#45;5435447684976575831</title>\n",
       "<path fill=\"none\" stroke=\"black\" d=\"M650.83,-610.18C630.16,-618.13 610.93,-630.09 598,-648 575.47,-679.2 562.91,-705.23 621,-828 625.91,-838.38 633.5,-848.25 641.15,-856.58\"/>\n",
       "<polygon fill=\"black\" stroke=\"black\" points=\"638.65,-859.04 648.12,-863.79 643.68,-854.17 638.65,-859.04\"/>\n",
       "</g>\n",
       "<!-- &#45;5427279146790490540&#45;&gt;&#45;3779726237529164891 -->\n",
       "<g id=\"edge7\" class=\"edge\">\n",
       "<title>&#45;5427279146790490540&#45;&gt;&#45;3779726237529164891</title>\n",
       "<path fill=\"none\" stroke=\"black\" d=\"M758,-612.3C758,-620.02 758,-629.29 758,-637.89\"/>\n",
       "<polygon fill=\"black\" stroke=\"black\" points=\"754.5,-637.9 758,-647.9 761.5,-637.9 754.5,-637.9\"/>\n",
       "</g>\n",
       "<!-- 8426686889979009445 -->\n",
       "<g id=\"node27\" class=\"node\">\n",
       "<title>8426686889979009445</title>\n",
       "<polygon fill=\"none\" stroke=\"black\" points=\"1226.5,-684 927.5,-684 927.5,-648 1226.5,-648 1226.5,-684\"/>\n",
       "<text text-anchor=\"middle\" x=\"1077\" y=\"-661\" font-family=\"Helvetica,sans-Serif\" font-size=\"20.00\">Projection(Loc, fare_amount)</text>\n",
       "</g>\n",
       "<!-- &#45;5427279146790490540&#45;&gt;8426686889979009445 -->\n",
       "<g id=\"edge32\" class=\"edge\">\n",
       "<title>&#45;5427279146790490540&#45;&gt;8426686889979009445</title>\n",
       "<path fill=\"none\" stroke=\"black\" d=\"M835.63,-612.03C882.13,-622.24 941.36,-635.24 989.51,-645.8\"/>\n",
       "<polygon fill=\"black\" stroke=\"black\" points=\"988.78,-649.23 999.3,-647.95 990.28,-642.39 988.78,-649.23\"/>\n",
       "</g>\n",
       "<!-- &#45;8631965921014305443 -->\n",
       "<g id=\"node7\" class=\"node\">\n",
       "<title>&#45;8631965921014305443</title>\n",
       "<polygon fill=\"none\" stroke=\"black\" points=\"796,-540 588,-540 588,-504 796,-504 796,-540\"/>\n",
       "<text text-anchor=\"middle\" x=\"692\" y=\"-517\" font-family=\"Helvetica,sans-Serif\" font-size=\"20.00\">And(And, Between)</text>\n",
       "</g>\n",
       "<!-- &#45;8631965921014305443&#45;&gt;&#45;5427279146790490540 -->\n",
       "<g id=\"edge9\" class=\"edge\">\n",
       "<title>&#45;8631965921014305443&#45;&gt;&#45;5427279146790490540</title>\n",
       "<path fill=\"none\" stroke=\"black\" d=\"M708.31,-540.3C716.31,-548.78 726.07,-559.14 734.82,-568.42\"/>\n",
       "<polygon fill=\"black\" stroke=\"black\" points=\"732.47,-571.02 741.87,-575.9 737.56,-566.22 732.47,-571.02\"/>\n",
       "</g>\n",
       "<!-- 418321120661450919 -->\n",
       "<g id=\"node8\" class=\"node\">\n",
       "<title>418321120661450919</title>\n",
       "<polygon fill=\"none\" stroke=\"black\" points=\"529.5,-468 314.5,-468 314.5,-432 529.5,-432 529.5,-468\"/>\n",
       "<text text-anchor=\"middle\" x=\"422\" y=\"-445\" font-family=\"Helvetica,sans-Serif\" font-size=\"20.00\">Between(Projection)</text>\n",
       "</g>\n",
       "<!-- 418321120661450919&#45;&gt;&#45;8631965921014305443 -->\n",
       "<g id=\"edge11\" class=\"edge\">\n",
       "<title>418321120661450919&#45;&gt;&#45;8631965921014305443</title>\n",
       "<path fill=\"none\" stroke=\"black\" d=\"M487.7,-468.03C526.5,-478.09 575.76,-490.86 616.19,-501.35\"/>\n",
       "<polygon fill=\"black\" stroke=\"black\" points=\"615.44,-504.77 626,-503.89 617.2,-497.99 615.44,-504.77\"/>\n",
       "</g>\n",
       "<!-- &#45;246632207734928685 -->\n",
       "<g id=\"node9\" class=\"node\">\n",
       "<title>&#45;246632207734928685</title>\n",
       "<polygon fill=\"none\" stroke=\"black\" points=\"384,-252 0,-252 0,-216 384,-216 384,-252\"/>\n",
       "<text text-anchor=\"middle\" x=\"192\" y=\"-229\" font-family=\"Helvetica,sans-Serif\" font-size=\"20.00\">Projection(Concat, dropoff_longitude)</text>\n",
       "</g>\n",
       "<!-- &#45;246632207734928685&#45;&gt;418321120661450919 -->\n",
       "<g id=\"edge12\" class=\"edge\">\n",
       "<title>&#45;246632207734928685&#45;&gt;418321120661450919</title>\n",
       "<path fill=\"none\" stroke=\"black\" d=\"M210.43,-252.15C251.23,-290.11 349.24,-381.3 396.14,-424.94\"/>\n",
       "<polygon fill=\"black\" stroke=\"black\" points=\"393.77,-427.52 403.48,-431.77 398.54,-422.39 393.77,-427.52\"/>\n",
       "</g>\n",
       "<!-- &#45;2206023874372141787 -->\n",
       "<g id=\"node10\" class=\"node\">\n",
       "<title>&#45;2206023874372141787</title>\n",
       "<polygon fill=\"none\" stroke=\"black\" points=\"1380.5,-180 571.5,-180 571.5,-144 1380.5,-144 1380.5,-180\"/>\n",
       "<text text-anchor=\"middle\" x=\"976\" y=\"-157\" font-family=\"Helvetica,sans-Serif\" font-size=\"20.00\">Concat(ArrowStringConversion, ArrowStringConversion, ArrowStringConversion)</text>\n",
       "</g>\n",
       "<!-- &#45;2206023874372141787&#45;&gt;&#45;246632207734928685 -->\n",
       "<g id=\"edge13\" class=\"edge\">\n",
       "<title>&#45;2206023874372141787&#45;&gt;&#45;246632207734928685</title>\n",
       "<path fill=\"none\" stroke=\"black\" d=\"M785.46,-180.01C666.55,-190.63 513.66,-204.28 392.85,-215.07\"/>\n",
       "<polygon fill=\"black\" stroke=\"black\" points=\"392.39,-211.59 382.74,-215.97 393.01,-218.57 392.39,-211.59\"/>\n",
       "</g>\n",
       "<!-- &#45;8660762904073960540 -->\n",
       "<g id=\"node19\" class=\"node\">\n",
       "<title>&#45;8660762904073960540</title>\n",
       "<polygon fill=\"none\" stroke=\"black\" points=\"768,-252 402,-252 402,-216 768,-216 768,-252\"/>\n",
       "<text text-anchor=\"middle\" x=\"585\" y=\"-229\" font-family=\"Helvetica,sans-Serif\" font-size=\"20.00\">Projection(Concat, dropoff_latitude)</text>\n",
       "</g>\n",
       "<!-- &#45;2206023874372141787&#45;&gt;&#45;8660762904073960540 -->\n",
       "<g id=\"edge23\" class=\"edge\">\n",
       "<title>&#45;2206023874372141787&#45;&gt;&#45;8660762904073960540</title>\n",
       "<path fill=\"none\" stroke=\"black\" d=\"M880.85,-180.03C823.26,-190.34 749.73,-203.51 690.39,-214.13\"/>\n",
       "<polygon fill=\"black\" stroke=\"black\" points=\"689.46,-210.74 680.24,-215.95 690.7,-217.63 689.46,-210.74\"/>\n",
       "</g>\n",
       "<!-- &#45;7562178360580621591 -->\n",
       "<g id=\"node22\" class=\"node\">\n",
       "<title>&#45;7562178360580621591</title>\n",
       "<polygon fill=\"none\" stroke=\"black\" points=\"1166,-252 786,-252 786,-216 1166,-216 1166,-252\"/>\n",
       "<text text-anchor=\"middle\" x=\"976\" y=\"-229\" font-family=\"Helvetica,sans-Serif\" font-size=\"20.00\">Projection(Concat, pickup_longitude)</text>\n",
       "</g>\n",
       "<!-- &#45;2206023874372141787&#45;&gt;&#45;7562178360580621591 -->\n",
       "<g id=\"edge27\" class=\"edge\">\n",
       "<title>&#45;2206023874372141787&#45;&gt;&#45;7562178360580621591</title>\n",
       "<path fill=\"none\" stroke=\"black\" d=\"M976,-180.3C976,-188.02 976,-197.29 976,-205.89\"/>\n",
       "<polygon fill=\"black\" stroke=\"black\" points=\"972.5,-205.9 976,-215.9 979.5,-205.9 972.5,-205.9\"/>\n",
       "</g>\n",
       "<!-- &#45;4119917899844989356 -->\n",
       "<g id=\"node24\" class=\"node\">\n",
       "<title>&#45;4119917899844989356</title>\n",
       "<polygon fill=\"none\" stroke=\"black\" points=\"1546,-252 1184,-252 1184,-216 1546,-216 1546,-252\"/>\n",
       "<text text-anchor=\"middle\" x=\"1365\" y=\"-229\" font-family=\"Helvetica,sans-Serif\" font-size=\"20.00\">Projection(Concat, pickup_latitude)</text>\n",
       "</g>\n",
       "<!-- &#45;2206023874372141787&#45;&gt;&#45;4119917899844989356 -->\n",
       "<g id=\"edge29\" class=\"edge\">\n",
       "<title>&#45;2206023874372141787&#45;&gt;&#45;4119917899844989356</title>\n",
       "<path fill=\"none\" stroke=\"black\" d=\"M1070.66,-180.03C1127.96,-190.34 1201.11,-203.51 1260.15,-214.13\"/>\n",
       "<polygon fill=\"black\" stroke=\"black\" points=\"1259.79,-217.62 1270.25,-215.95 1261.03,-210.73 1259.79,-217.62\"/>\n",
       "</g>\n",
       "<!-- &#45;7584591523670190311 -->\n",
       "<g id=\"node25\" class=\"node\">\n",
       "<title>&#45;7584591523670190311</title>\n",
       "<polygon fill=\"none\" stroke=\"black\" points=\"2232.5,-396 983.5,-396 983.5,-360 2232.5,-360 2232.5,-396\"/>\n",
       "<text text-anchor=\"middle\" x=\"1608\" y=\"-373\" font-family=\"Helvetica,sans-Serif\" font-size=\"20.00\">Projection(Concat, [&#39;trip_distance&#39;, &#39;pickup_longitude&#39;, &#39;pickup_latitude&#39;, &#39;dropoff_longitude&#39;, &#39;dropoff_latitude&#39;, &#39;fare_amount&#39;])</text>\n",
       "</g>\n",
       "<!-- &#45;2206023874372141787&#45;&gt;&#45;7584591523670190311 -->\n",
       "<g id=\"edge30\" class=\"edge\">\n",
       "<title>&#45;2206023874372141787&#45;&gt;&#45;7584591523670190311</title>\n",
       "<path fill=\"none\" stroke=\"black\" d=\"M1329.83,-180.01C1438.38,-188.25 1534.81,-199.94 1555,-216 1595.77,-248.43 1605.5,-313 1607.62,-349.75\"/>\n",
       "<polygon fill=\"black\" stroke=\"black\" points=\"1604.12,-349.92 1608.05,-359.76 1611.12,-349.62 1604.12,-349.92\"/>\n",
       "</g>\n",
       "<!-- 1038718095114113407 -->\n",
       "<g id=\"node11\" class=\"node\">\n",
       "<title>1038718095114113407</title>\n",
       "<polygon fill=\"none\" stroke=\"black\" points=\"728,-108 268,-108 268,-72 728,-72 728,-108\"/>\n",
       "<text text-anchor=\"middle\" x=\"498\" y=\"-85\" font-family=\"Helvetica,sans-Serif\" font-size=\"20.00\">ArrowStringConversion(FromMapProjectable)</text>\n",
       "</g>\n",
       "<!-- 1038718095114113407&#45;&gt;&#45;2206023874372141787 -->\n",
       "<g id=\"edge16\" class=\"edge\">\n",
       "<title>1038718095114113407&#45;&gt;&#45;2206023874372141787</title>\n",
       "<path fill=\"none\" stroke=\"black\" d=\"M614.32,-108.03C685.45,-118.45 776.47,-131.78 849.41,-142.46\"/>\n",
       "<polygon fill=\"black\" stroke=\"black\" points=\"849.17,-145.96 859.57,-143.95 850.19,-139.04 849.17,-145.96\"/>\n",
       "</g>\n",
       "<!-- &#45;8217967144117258929 -->\n",
       "<g id=\"node12\" class=\"node\">\n",
       "<title>&#45;8217967144117258929</title>\n",
       "<polygon fill=\"none\" stroke=\"black\" points=\"606.5,-36 389.5,-36 389.5,0 606.5,0 606.5,-36\"/>\n",
       "<text text-anchor=\"middle\" x=\"498\" y=\"-13\" font-family=\"Helvetica,sans-Serif\" font-size=\"20.00\">FromMapProjectable</text>\n",
       "</g>\n",
       "<!-- &#45;8217967144117258929&#45;&gt;1038718095114113407 -->\n",
       "<g id=\"edge17\" class=\"edge\">\n",
       "<title>&#45;8217967144117258929&#45;&gt;1038718095114113407</title>\n",
       "<path fill=\"none\" stroke=\"black\" d=\"M498,-36.3C498,-44.02 498,-53.29 498,-61.89\"/>\n",
       "<polygon fill=\"black\" stroke=\"black\" points=\"494.5,-61.9 498,-71.9 501.5,-61.9 494.5,-61.9\"/>\n",
       "</g>\n",
       "<!-- 1149793833361591779 -->\n",
       "<g id=\"node13\" class=\"node\">\n",
       "<title>1149793833361591779</title>\n",
       "<polygon fill=\"none\" stroke=\"black\" points=\"1206,-108 746,-108 746,-72 1206,-72 1206,-108\"/>\n",
       "<text text-anchor=\"middle\" x=\"976\" y=\"-85\" font-family=\"Helvetica,sans-Serif\" font-size=\"20.00\">ArrowStringConversion(FromMapProjectable)</text>\n",
       "</g>\n",
       "<!-- 1149793833361591779&#45;&gt;&#45;2206023874372141787 -->\n",
       "<g id=\"edge14\" class=\"edge\">\n",
       "<title>1149793833361591779&#45;&gt;&#45;2206023874372141787</title>\n",
       "<path fill=\"none\" stroke=\"black\" d=\"M976,-108.3C976,-116.02 976,-125.29 976,-133.89\"/>\n",
       "<polygon fill=\"black\" stroke=\"black\" points=\"972.5,-133.9 976,-143.9 979.5,-133.9 972.5,-133.9\"/>\n",
       "</g>\n",
       "<!-- &#45;898271246095399204 -->\n",
       "<g id=\"node14\" class=\"node\">\n",
       "<title>&#45;898271246095399204</title>\n",
       "<polygon fill=\"none\" stroke=\"black\" points=\"1084.5,-36 867.5,-36 867.5,0 1084.5,0 1084.5,-36\"/>\n",
       "<text text-anchor=\"middle\" x=\"976\" y=\"-13\" font-family=\"Helvetica,sans-Serif\" font-size=\"20.00\">FromMapProjectable</text>\n",
       "</g>\n",
       "<!-- &#45;898271246095399204&#45;&gt;1149793833361591779 -->\n",
       "<g id=\"edge18\" class=\"edge\">\n",
       "<title>&#45;898271246095399204&#45;&gt;1149793833361591779</title>\n",
       "<path fill=\"none\" stroke=\"black\" d=\"M976,-36.3C976,-44.02 976,-53.29 976,-61.89\"/>\n",
       "<polygon fill=\"black\" stroke=\"black\" points=\"972.5,-61.9 976,-71.9 979.5,-61.9 972.5,-61.9\"/>\n",
       "</g>\n",
       "<!-- 1363678803182675541 -->\n",
       "<g id=\"node15\" class=\"node\">\n",
       "<title>1363678803182675541</title>\n",
       "<polygon fill=\"none\" stroke=\"black\" points=\"1684,-108 1224,-108 1224,-72 1684,-72 1684,-108\"/>\n",
       "<text text-anchor=\"middle\" x=\"1454\" y=\"-85\" font-family=\"Helvetica,sans-Serif\" font-size=\"20.00\">ArrowStringConversion(FromMapProjectable)</text>\n",
       "</g>\n",
       "<!-- 1363678803182675541&#45;&gt;&#45;2206023874372141787 -->\n",
       "<g id=\"edge15\" class=\"edge\">\n",
       "<title>1363678803182675541&#45;&gt;&#45;2206023874372141787</title>\n",
       "<path fill=\"none\" stroke=\"black\" d=\"M1337.68,-108.03C1266.55,-118.45 1175.53,-131.78 1102.59,-142.46\"/>\n",
       "<polygon fill=\"black\" stroke=\"black\" points=\"1101.81,-139.04 1092.43,-143.95 1102.83,-145.96 1101.81,-139.04\"/>\n",
       "</g>\n",
       "<!-- 2555997907827094929 -->\n",
       "<g id=\"node16\" class=\"node\">\n",
       "<title>2555997907827094929</title>\n",
       "<polygon fill=\"none\" stroke=\"black\" points=\"1562.5,-36 1345.5,-36 1345.5,0 1562.5,0 1562.5,-36\"/>\n",
       "<text text-anchor=\"middle\" x=\"1454\" y=\"-13\" font-family=\"Helvetica,sans-Serif\" font-size=\"20.00\">FromMapProjectable</text>\n",
       "</g>\n",
       "<!-- 2555997907827094929&#45;&gt;1363678803182675541 -->\n",
       "<g id=\"edge19\" class=\"edge\">\n",
       "<title>2555997907827094929&#45;&gt;1363678803182675541</title>\n",
       "<path fill=\"none\" stroke=\"black\" d=\"M1454,-36.3C1454,-44.02 1454,-53.29 1454,-61.89\"/>\n",
       "<polygon fill=\"black\" stroke=\"black\" points=\"1450.5,-61.9 1454,-71.9 1457.5,-61.9 1450.5,-61.9\"/>\n",
       "</g>\n",
       "<!-- &#45;8404308468123140576 -->\n",
       "<g id=\"node17\" class=\"node\">\n",
       "<title>&#45;8404308468123140576</title>\n",
       "<polygon fill=\"none\" stroke=\"black\" points=\"796,-468 588,-468 588,-432 796,-432 796,-468\"/>\n",
       "<text text-anchor=\"middle\" x=\"692\" y=\"-445\" font-family=\"Helvetica,sans-Serif\" font-size=\"20.00\">And(And, Between)</text>\n",
       "</g>\n",
       "<!-- &#45;8404308468123140576&#45;&gt;&#45;8631965921014305443 -->\n",
       "<g id=\"edge10\" class=\"edge\">\n",
       "<title>&#45;8404308468123140576&#45;&gt;&#45;8631965921014305443</title>\n",
       "<path fill=\"none\" stroke=\"black\" d=\"M692,-468.3C692,-476.02 692,-485.29 692,-493.89\"/>\n",
       "<polygon fill=\"black\" stroke=\"black\" points=\"688.5,-493.9 692,-503.9 695.5,-493.9 688.5,-493.9\"/>\n",
       "</g>\n",
       "<!-- &#45;1880169206458274656 -->\n",
       "<g id=\"node18\" class=\"node\">\n",
       "<title>&#45;1880169206458274656</title>\n",
       "<polygon fill=\"none\" stroke=\"black\" points=\"692.5,-396 477.5,-396 477.5,-360 692.5,-360 692.5,-396\"/>\n",
       "<text text-anchor=\"middle\" x=\"585\" y=\"-373\" font-family=\"Helvetica,sans-Serif\" font-size=\"20.00\">Between(Projection)</text>\n",
       "</g>\n",
       "<!-- &#45;1880169206458274656&#45;&gt;&#45;8404308468123140576 -->\n",
       "<g id=\"edge20\" class=\"edge\">\n",
       "<title>&#45;1880169206458274656&#45;&gt;&#45;8404308468123140576</title>\n",
       "<path fill=\"none\" stroke=\"black\" d=\"M611.18,-396.12C625.04,-405.19 642.24,-416.45 657.21,-426.24\"/>\n",
       "<polygon fill=\"black\" stroke=\"black\" points=\"655.44,-429.26 665.72,-431.81 659.27,-423.41 655.44,-429.26\"/>\n",
       "</g>\n",
       "<!-- &#45;8660762904073960540&#45;&gt;&#45;1880169206458274656 -->\n",
       "<g id=\"edge22\" class=\"edge\">\n",
       "<title>&#45;8660762904073960540&#45;&gt;&#45;1880169206458274656</title>\n",
       "<path fill=\"none\" stroke=\"black\" d=\"M585,-252.13C585,-276.33 585,-320.79 585,-349.61\"/>\n",
       "<polygon fill=\"black\" stroke=\"black\" points=\"581.5,-349.81 585,-359.81 588.5,-349.81 581.5,-349.81\"/>\n",
       "</g>\n",
       "<!-- 2176622394378822998 -->\n",
       "<g id=\"node20\" class=\"node\">\n",
       "<title>2176622394378822998</title>\n",
       "<polygon fill=\"none\" stroke=\"black\" points=\"965.5,-396 710.5,-396 710.5,-360 965.5,-360 965.5,-396\"/>\n",
       "<text text-anchor=\"middle\" x=\"838\" y=\"-373\" font-family=\"Helvetica,sans-Serif\" font-size=\"20.00\">And(Between, Between)</text>\n",
       "</g>\n",
       "<!-- 2176622394378822998&#45;&gt;&#45;8404308468123140576 -->\n",
       "<g id=\"edge21\" class=\"edge\">\n",
       "<title>2176622394378822998&#45;&gt;&#45;8404308468123140576</title>\n",
       "<path fill=\"none\" stroke=\"black\" d=\"M802.28,-396.12C782.5,-405.61 757.73,-417.49 736.67,-427.58\"/>\n",
       "<polygon fill=\"black\" stroke=\"black\" points=\"735.1,-424.45 727.6,-431.93 738.13,-430.76 735.1,-424.45\"/>\n",
       "</g>\n",
       "<!-- 2940243441440589288 -->\n",
       "<g id=\"node21\" class=\"node\">\n",
       "<title>2940243441440589288</title>\n",
       "<polygon fill=\"none\" stroke=\"black\" points=\"1014.5,-324 799.5,-324 799.5,-288 1014.5,-288 1014.5,-324\"/>\n",
       "<text text-anchor=\"middle\" x=\"907\" y=\"-301\" font-family=\"Helvetica,sans-Serif\" font-size=\"20.00\">Between(Projection)</text>\n",
       "</g>\n",
       "<!-- 2940243441440589288&#45;&gt;2176622394378822998 -->\n",
       "<g id=\"edge24\" class=\"edge\">\n",
       "<title>2940243441440589288&#45;&gt;2176622394378822998</title>\n",
       "<path fill=\"none\" stroke=\"black\" d=\"M889.94,-324.3C881.5,-332.86 871.18,-343.34 861.96,-352.7\"/>\n",
       "<polygon fill=\"black\" stroke=\"black\" points=\"859.39,-350.32 854.86,-359.9 864.37,-355.23 859.39,-350.32\"/>\n",
       "</g>\n",
       "<!-- &#45;7562178360580621591&#45;&gt;2940243441440589288 -->\n",
       "<g id=\"edge26\" class=\"edge\">\n",
       "<title>&#45;7562178360580621591&#45;&gt;2940243441440589288</title>\n",
       "<path fill=\"none\" stroke=\"black\" d=\"M958.94,-252.3C950.5,-260.86 940.18,-271.34 930.96,-280.7\"/>\n",
       "<polygon fill=\"black\" stroke=\"black\" points=\"928.39,-278.32 923.86,-287.9 933.37,-283.23 928.39,-278.32\"/>\n",
       "</g>\n",
       "<!-- 6873592578364696138 -->\n",
       "<g id=\"node23\" class=\"node\">\n",
       "<title>6873592578364696138</title>\n",
       "<polygon fill=\"none\" stroke=\"black\" points=\"1325.5,-324 1110.5,-324 1110.5,-288 1325.5,-288 1325.5,-324\"/>\n",
       "<text text-anchor=\"middle\" x=\"1218\" y=\"-301\" font-family=\"Helvetica,sans-Serif\" font-size=\"20.00\">Between(Projection)</text>\n",
       "</g>\n",
       "<!-- 6873592578364696138&#45;&gt;2176622394378822998 -->\n",
       "<g id=\"edge25\" class=\"edge\">\n",
       "<title>6873592578364696138&#45;&gt;2176622394378822998</title>\n",
       "<path fill=\"none\" stroke=\"black\" d=\"M1125.53,-324.03C1069.56,-334.34 998.1,-347.51 940.42,-358.13\"/>\n",
       "<polygon fill=\"black\" stroke=\"black\" points=\"939.76,-354.7 930.56,-359.95 941.03,-361.58 939.76,-354.7\"/>\n",
       "</g>\n",
       "<!-- &#45;4119917899844989356&#45;&gt;6873592578364696138 -->\n",
       "<g id=\"edge28\" class=\"edge\">\n",
       "<title>&#45;4119917899844989356&#45;&gt;6873592578364696138</title>\n",
       "<path fill=\"none\" stroke=\"black\" d=\"M1329.04,-252.12C1309.12,-261.61 1284.18,-273.49 1262.98,-283.58\"/>\n",
       "<polygon fill=\"black\" stroke=\"black\" points=\"1261.37,-280.47 1253.84,-287.93 1264.38,-286.79 1261.37,-280.47\"/>\n",
       "</g>\n",
       "<!-- &#45;7584591523670190311&#45;&gt;&#45;5427279146790490540 -->\n",
       "<g id=\"edge8\" class=\"edge\">\n",
       "<title>&#45;7584591523670190311&#45;&gt;&#45;5427279146790490540</title>\n",
       "<path fill=\"none\" stroke=\"black\" d=\"M1540.24,-396.06C1384.31,-435.32 1000.85,-531.86 835.72,-573.43\"/>\n",
       "<polygon fill=\"black\" stroke=\"black\" points=\"834.48,-570.14 825.64,-575.97 836.19,-576.92 834.48,-570.14\"/>\n",
       "</g>\n",
       "<!-- 3675430091560392394 -->\n",
       "<g id=\"node26\" class=\"node\">\n",
       "<title>3675430091560392394</title>\n",
       "<polygon fill=\"none\" stroke=\"black\" points=\"1141.5,-756 926.5,-756 926.5,-720 1141.5,-720 1141.5,-756\"/>\n",
       "<text text-anchor=\"middle\" x=\"1034\" y=\"-733\" font-family=\"Helvetica,sans-Serif\" font-size=\"20.00\">Between(Projection)</text>\n",
       "</g>\n",
       "<!-- 3675430091560392394&#45;&gt;529861137144624064 -->\n",
       "<g id=\"edge4\" class=\"edge\">\n",
       "<title>3675430091560392394&#45;&gt;529861137144624064</title>\n",
       "<path fill=\"none\" stroke=\"black\" d=\"M966.84,-756.03C927.1,-766.11 876.61,-778.92 835.23,-789.41\"/>\n",
       "<polygon fill=\"black\" stroke=\"black\" points=\"834.3,-786.04 825.47,-791.89 836.02,-792.82 834.3,-786.04\"/>\n",
       "</g>\n",
       "<!-- 8426686889979009445&#45;&gt;3675430091560392394 -->\n",
       "<g id=\"edge31\" class=\"edge\">\n",
       "<title>8426686889979009445&#45;&gt;3675430091560392394</title>\n",
       "<path fill=\"none\" stroke=\"black\" d=\"M1066.37,-684.3C1061.37,-692.44 1055.31,-702.31 1049.79,-711.3\"/>\n",
       "<polygon fill=\"black\" stroke=\"black\" points=\"1046.76,-709.54 1044.51,-719.9 1052.72,-713.21 1046.76,-709.54\"/>\n",
       "</g>\n",
       "</g>\n",
       "</svg>\n"
      ],
      "text/plain": [
       "<graphviz.graphs.Digraph at 0x7ed7781e4b20>"
      ]
     },
     "execution_count": 18,
     "metadata": {},
     "output_type": "execute_result"
    }
   ],
   "source": [
    "# save the pickup coordinates dataset\n",
    "\n",
    "save_path = \"../data/interim/location_data.csv\"\n",
    "\n",
    "pickup_coord_dataset = df_final.loc[:,['pickup_latitude','pickup_longitude']]\n",
    "pickup_coord_dataset.visualize()"
   ]
  },
  {
   "cell_type": "code",
   "execution_count": 19,
   "metadata": {},
   "outputs": [
    {
     "name": "stdout",
     "output_type": "stream",
     "text": [
      "Shape of the dataset is  (33506463, 2)\n"
     ]
    }
   ],
   "source": [
    "# form the dataset\n",
    "\n",
    "pickup_coord_dataset = df_final.loc[:,['pickup_latitude','pickup_longitude']].compute()\n",
    "\n",
    "print(\"Shape of the dataset is \", pickup_coord_dataset.shape)"
   ]
  },
  {
   "cell_type": "code",
   "execution_count": 20,
   "metadata": {},
   "outputs": [],
   "source": [
    "# save the dataset\n",
    "\n",
    "pickup_coord_dataset.to_csv(save_path, index=False)"
   ]
  },
  {
   "cell_type": "code",
   "execution_count": 21,
   "metadata": {},
   "outputs": [
    {
     "data": {
      "text/html": [
       "<div>\n",
       "<style scoped>\n",
       "    .dataframe tbody tr th:only-of-type {\n",
       "        vertical-align: middle;\n",
       "    }\n",
       "\n",
       "    .dataframe tbody tr th {\n",
       "        vertical-align: top;\n",
       "    }\n",
       "\n",
       "    .dataframe thead th {\n",
       "        text-align: right;\n",
       "    }\n",
       "</style>\n",
       "<table border=\"1\" class=\"dataframe\">\n",
       "  <thead>\n",
       "    <tr style=\"text-align: right;\">\n",
       "      <th></th>\n",
       "      <th>pickup_latitude</th>\n",
       "      <th>pickup_longitude</th>\n",
       "    </tr>\n",
       "  </thead>\n",
       "  <tbody>\n",
       "    <tr>\n",
       "      <th>0</th>\n",
       "      <td>40.734695</td>\n",
       "      <td>-73.990372</td>\n",
       "    </tr>\n",
       "    <tr>\n",
       "      <th>1</th>\n",
       "      <td>40.729912</td>\n",
       "      <td>-73.980782</td>\n",
       "    </tr>\n",
       "    <tr>\n",
       "      <th>2</th>\n",
       "      <td>40.679565</td>\n",
       "      <td>-73.984550</td>\n",
       "    </tr>\n",
       "    <tr>\n",
       "      <th>3</th>\n",
       "      <td>40.718990</td>\n",
       "      <td>-73.993469</td>\n",
       "    </tr>\n",
       "    <tr>\n",
       "      <th>4</th>\n",
       "      <td>40.781330</td>\n",
       "      <td>-73.960625</td>\n",
       "    </tr>\n",
       "    <tr>\n",
       "      <th>5</th>\n",
       "      <td>40.743050</td>\n",
       "      <td>-73.980118</td>\n",
       "    </tr>\n",
       "    <tr>\n",
       "      <th>6</th>\n",
       "      <td>40.719990</td>\n",
       "      <td>-73.994057</td>\n",
       "    </tr>\n",
       "    <tr>\n",
       "      <th>7</th>\n",
       "      <td>40.744614</td>\n",
       "      <td>-73.979424</td>\n",
       "    </tr>\n",
       "    <tr>\n",
       "      <th>8</th>\n",
       "      <td>40.791046</td>\n",
       "      <td>-73.947151</td>\n",
       "    </tr>\n",
       "    <tr>\n",
       "      <th>9</th>\n",
       "      <td>40.723896</td>\n",
       "      <td>-73.998344</td>\n",
       "    </tr>\n",
       "  </tbody>\n",
       "</table>\n",
       "</div>"
      ],
      "text/plain": [
       "   pickup_latitude  pickup_longitude\n",
       "0        40.734695        -73.990372\n",
       "1        40.729912        -73.980782\n",
       "2        40.679565        -73.984550\n",
       "3        40.718990        -73.993469\n",
       "4        40.781330        -73.960625\n",
       "5        40.743050        -73.980118\n",
       "6        40.719990        -73.994057\n",
       "7        40.744614        -73.979424\n",
       "8        40.791046        -73.947151\n",
       "9        40.723896        -73.998344"
      ]
     },
     "execution_count": 21,
     "metadata": {},
     "output_type": "execute_result"
    }
   ],
   "source": [
    "pickup_coord_dataset.head(10)"
   ]
  },
  {
   "cell_type": "code",
   "execution_count": 22,
   "metadata": {},
   "outputs": [
    {
     "data": {
      "text/plain": [
       "pickup_latitude     40.471401\n",
       "pickup_longitude   -74.249069\n",
       "dtype: float64"
      ]
     },
     "execution_count": 22,
     "metadata": {},
     "output_type": "execute_result"
    }
   ],
   "source": [
    "pickup_coord_dataset.min()"
   ]
  },
  {
   "cell_type": "code",
   "execution_count": 23,
   "metadata": {},
   "outputs": [
    {
     "data": {
      "text/plain": [
       "pickup_latitude     40.909744\n",
       "pickup_longitude   -73.700150\n",
       "dtype: float64"
      ]
     },
     "execution_count": 23,
     "metadata": {},
     "output_type": "execute_result"
    }
   ],
   "source": [
    "pickup_coord_dataset.max()"
   ]
  },
  {
   "cell_type": "code",
   "execution_count": null,
   "metadata": {},
   "outputs": [],
   "source": []
  }
 ],
 "metadata": {
  "kernelspec": {
   "display_name": "dsenv",
   "language": "python",
   "name": "python3"
  },
  "language_info": {
   "codemirror_mode": {
    "name": "ipython",
    "version": 3
   },
   "file_extension": ".py",
   "mimetype": "text/x-python",
   "name": "python",
   "nbconvert_exporter": "python",
   "pygments_lexer": "ipython3",
   "version": "3.10.15"
  }
 },
 "nbformat": 4,
 "nbformat_minor": 2
}
